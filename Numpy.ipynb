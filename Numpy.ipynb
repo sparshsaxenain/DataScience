{
 "cells": [
  {
   "cell_type": "markdown",
   "id": "1f1c8827",
   "metadata": {},
   "source": [
    "# Getting started\n",
    "\n",
    "## Kaggle Notebook Link :\n",
    "\n",
    "To use numpy, you'll typically start with the following line of code."
   ]
  },
  {
   "cell_type": "code",
   "execution_count": 1,
   "id": "f378828d",
   "metadata": {},
   "outputs": [],
   "source": [
    "import numpy as np"
   ]
  },
  {
   "cell_type": "markdown",
   "id": "95e5a269",
   "metadata": {},
   "source": [
    "# Creating Arrays from Python Lists\n",
    "\n",
    "Now we can use `np.array` to create arrays from Python lists:"
   ]
  },
  {
   "cell_type": "code",
   "execution_count": 3,
   "id": "33b72365",
   "metadata": {},
   "outputs": [
    {
     "data": {
      "text/plain": [
       "array([1, 4, 3, 5, 6])"
      ]
     },
     "execution_count": 3,
     "metadata": {},
     "output_type": "execute_result"
    }
   ],
   "source": [
    "np.array([1, 4, 3, 5, 6])"
   ]
  },
  {
   "cell_type": "markdown",
   "id": "fa57d66a",
   "metadata": {},
   "source": [
    "Remember that unlike Python lists, NumPy arrays can only contain data of the same type. If the types do not match, NumPy will upcast them according to its type promotion rules; here, integers are upcast to floating point:"
   ]
  },
  {
   "cell_type": "code",
   "execution_count": 4,
   "id": "dcd2663f",
   "metadata": {},
   "outputs": [
    {
     "data": {
      "text/plain": [
       "array([2.17, 5.  , 3.  , 9.  , 8.  ])"
      ]
     },
     "execution_count": 4,
     "metadata": {},
     "output_type": "execute_result"
    }
   ],
   "source": [
    "np.array([2.17, 5, 3, 9, 8])"
   ]
  },
  {
   "cell_type": "code",
   "execution_count": 5,
   "id": "be8ebfa0",
   "metadata": {},
   "outputs": [
    {
     "data": {
      "text/plain": [
       "array(['2.17', '5', '3', '9', '23'], dtype='<U32')"
      ]
     },
     "execution_count": 5,
     "metadata": {},
     "output_type": "execute_result"
    }
   ],
   "source": [
    "np.array([2.17, 5, 3, 9, '23'])"
   ]
  },
  {
   "cell_type": "markdown",
   "id": "2402d5af",
   "metadata": {},
   "source": [
    "If we want to explicitly set the data type of the resulting array, we can use `dtype` keyword:"
   ]
  },
  {
   "cell_type": "code",
   "execution_count": 6,
   "id": "3e709178",
   "metadata": {},
   "outputs": [
    {
     "data": {
      "text/plain": [
       "array([ 2.17,  5.  ,  3.  ,  9.  , 23.  ])"
      ]
     },
     "execution_count": 6,
     "metadata": {},
     "output_type": "execute_result"
    }
   ],
   "source": [
    "np.array([2.17, 5, 3, 9, '23'], dtype=np.float64)"
   ]
  },
  {
   "cell_type": "code",
   "execution_count": 7,
   "id": "bd5db827",
   "metadata": {},
   "outputs": [
    {
     "data": {
      "text/plain": [
       "array([ 2,  5,  3,  9, 23])"
      ]
     },
     "execution_count": 7,
     "metadata": {},
     "output_type": "execute_result"
    }
   ],
   "source": [
    "np.array([2.17, 5, 3, 9, '23'], dtype=np.int64)"
   ]
  },
  {
   "cell_type": "markdown",
   "id": "0d856760",
   "metadata": {},
   "source": [
    "Finally, unlike Python lists, which are always one-dimensional sequences, NumPy arrays can be multidimensional. Here's one way of initializing a multidimensional array using a list of lists:"
   ]
  },
  {
   "cell_type": "code",
   "execution_count": 8,
   "id": "c9257ed0",
   "metadata": {},
   "outputs": [
    {
     "data": {
      "text/plain": [
       "array([[2, 3, 4],\n",
       "       [4, 5, 6],\n",
       "       [6, 7, 8]])"
      ]
     },
     "execution_count": 8,
     "metadata": {},
     "output_type": "execute_result"
    }
   ],
   "source": [
    "np.array([range(i, i+3) for i in [2, 4, 6]])"
   ]
  },
  {
   "cell_type": "markdown",
   "id": "c86fc303",
   "metadata": {},
   "source": [
    "The inner lists are treated as rows of the resulting two-dimensional array."
   ]
  },
  {
   "cell_type": "markdown",
   "id": "1c7fbfc4",
   "metadata": {},
   "source": [
    "# Creating Arrays from Scratch\n",
    "\n",
    "Especially for larger arrays, it is more efficient to create arrays from scratch using routines built into NumPy. Here are several examples:"
   ]
  },
  {
   "cell_type": "code",
   "execution_count": null,
   "id": "f61dc97b",
   "metadata": {},
   "outputs": [],
   "source": []
  }
 ],
 "metadata": {
  "kernelspec": {
   "display_name": ".venv",
   "language": "python",
   "name": "python3"
  },
  "language_info": {
   "codemirror_mode": {
    "name": "ipython",
    "version": 3
   },
   "file_extension": ".py",
   "mimetype": "text/x-python",
   "name": "python",
   "nbconvert_exporter": "python",
   "pygments_lexer": "ipython3",
   "version": "3.12.3"
  }
 },
 "nbformat": 4,
 "nbformat_minor": 5
}
